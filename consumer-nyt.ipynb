{
 "cells": [
  {
   "cell_type": "code",
   "execution_count": null,
   "id": "a44bd708",
   "metadata": {},
   "outputs": [],
   "source": [
    "from confluent_kafka import Consumer, KafkaError\n",
    "import json\n",
    "\n",
    "# Create a Kafka consumer configuration\n",
    "consumer_config = {\n",
    "    'bootstrap.servers': 'localhost:9092',  # Your Kafka broker address\n",
    "    'group.id': 'nyt-consumer-group',\n",
    "    'auto.offset.reset': 'earliest' #When a consumer starts reading a topic, it will begin reading from the earliest available offset,\n",
    "}\n",
    "\n",
    "# Create a Kafka consumer instance\n",
    "consumer = Consumer(consumer_config)\n",
    "\n",
    "# Subscribe to the Kafka topic\n",
    "consumer.subscribe(['nyt-demo-9'])\n",
    "\n",
    "try:\n",
    "    while True:\n",
    "        msg = consumer.poll(1.0)  # Poll for messages\n",
    "\n",
    "        if msg is None:\n",
    "            continue\n",
    "\n",
    "        if msg.error():\n",
    "            if msg.error().code() == KafkaError._PARTITION_EOF:\n",
    "                print(\"Reached end of partition\")\n",
    "            else:\n",
    "                print(\"Error while consuming message: {}\".format(msg.error()))\n",
    "        else:\n",
    "            # Process the consumed message (in this case, assume the message contains a JSON article)\n",
    "            article_data = json.loads(msg.value())\n",
    "            \n",
    "            print(\"Headline:\", article_data[\"headline\"])\n",
    "\n",
    "except KeyboardInterrupt:\n",
    "    pass\n",
    "finally:\n",
    "    # Close the Kafka consumer\n",
    "    consumer.close()\n"
   ]
  },
  {
   "cell_type": "code",
   "execution_count": null,
   "id": "d04fc5f9",
   "metadata": {},
   "outputs": [],
   "source": []
  }
 ],
 "metadata": {
  "kernelspec": {
   "display_name": "Python 3 (ipykernel)",
   "language": "python",
   "name": "python3"
  },
  "language_info": {
   "codemirror_mode": {
    "name": "ipython",
    "version": 3
   },
   "file_extension": ".py",
   "mimetype": "text/x-python",
   "name": "python",
   "nbconvert_exporter": "python",
   "pygments_lexer": "ipython3",
   "version": "3.9.16"
  }
 },
 "nbformat": 4,
 "nbformat_minor": 5
}
